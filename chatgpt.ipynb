{
  "nbformat": 4,
  "nbformat_minor": 0,
  "metadata": {
    "colab": {
      "provenance": [],
      "authorship_tag": "ABX9TyPMSmHjALExa96P4qKkDngx",
      "include_colab_link": true
    },
    "kernelspec": {
      "name": "python3",
      "display_name": "Python 3"
    },
    "language_info": {
      "name": "python"
    }
  },
  "cells": [
    {
      "cell_type": "markdown",
      "metadata": {
        "id": "view-in-github",
        "colab_type": "text"
      },
      "source": [
        "<a href=\"https://colab.research.google.com/github/ChuanyangZheng/ChatGPT/blob/main/chatgpt.ipynb\" target=\"_parent\"><img src=\"https://colab.research.google.com/assets/colab-badge.svg\" alt=\"Open In Colab\"/></a>"
      ]
    },
    {
      "cell_type": "code",
      "source": [
        "pip install openai"
      ],
      "metadata": {
        "id": "iYNJqsJ7hZUg"
      },
      "execution_count": null,
      "outputs": []
    },
    {
      "cell_type": "code",
      "source": [
        "import openai\n",
        "openai.api_key = \"\"\n",
        "class Chat:\n",
        "  def __init__(self, conversation_list=[]) -> None:\n",
        "    # 初始化对话列表，可以加入一个key为system的字典，有助于形成更加个性化的回答\n",
        "    # self.conversation_list = [{'role':'system','content':'你是一个非常友善的助手'}]\n",
        "    self.conversation_list = []\n",
        "\n",
        "  # 打印对话\n",
        "  def show_conversation(self, msg_list):\n",
        "    for msg in msg_list:\n",
        "      if msg['role'] == 'user':\n",
        "        print(f\"\\U0001f47b: {msg['content']}\\n\")\n",
        "      else:\n",
        "        print(f\"\\U0001f47D: {msg['content']}\\n\")\n",
        "\n",
        "  # 提示chatgpt\n",
        "  def ask(self, prompt):\n",
        "    self.conversation_list.append({\"role\": \"user\", \"content\": prompt})\n",
        "    response = openai.ChatCompletion.create(model=\"gpt-3.5-turbo\", messages=self.conversation_list)\n",
        "    answer = response.choices[0].message['content']\n",
        "    # 下面这一步是把chatGPT的回答也添加到对话列表中，这样下一次问问题的时候就能形成上下文了\n",
        "    self.conversation_list.append({\"role\": \"assistant\", \"content\": answer})\n",
        "    self.show_conversation(self.conversation_list)\n",
        "\n",
        "c2 = Chat()\n",
        "c2.ask('中国国家主席怎么当')"
      ],
      "metadata": {
        "id": "bT5raVeFcwx4"
      },
      "execution_count": null,
      "outputs": []
    }
  ]
}